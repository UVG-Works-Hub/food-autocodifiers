{
 "cells": [
  {
   "cell_type": "markdown",
   "metadata": {},
   "source": [
    "# Laboratorio 5 - Autocodificadores\n",
    "## Data Science Sección 20\n",
    "~ Samuel Chamale 21885\n",
    "\n",
    "~ Adrian Rodriguez 21691"
   ]
  },
  {
   "cell_type": "code",
   "execution_count": 1,
   "metadata": {},
   "outputs": [],
   "source": [
    "# Import necessary libraries\n",
    "import pandas as pd\n",
    "import numpy as np\n",
    "from io import StringIO\n",
    "import matplotlib.pyplot as plt\n",
    "from sklearn.preprocessing import StandardScaler\n",
    "import tensorflow as tf\n",
    "from tensorflow.keras.models import Model\n",
    "from tensorflow.keras.layers import Input, Dense"
   ]
  },
  {
   "cell_type": "markdown",
   "metadata": {},
   "source": [
    "## Parte 1: Preparación de Datos"
   ]
  },
  {
   "cell_type": "markdown",
   "metadata": {},
   "source": [
    "### 1.1 Cargar los datos en un DataFrame de Pandas"
   ]
  },
  {
   "cell_type": "code",
   "execution_count": 2,
   "metadata": {},
   "outputs": [],
   "source": [
    "CSV_PATH = 'UK_foods.csv'"
   ]
  },
  {
   "cell_type": "code",
   "execution_count": 4,
   "metadata": {},
   "outputs": [],
   "source": [
    "df = pd.read_csv(CSV_PATH) # Leer los datos del dataframe"
   ]
  },
  {
   "cell_type": "code",
   "execution_count": 6,
   "metadata": {},
   "outputs": [],
   "source": [
    "# Renombrar la primera columna y establecerla como índice\n",
    "df.rename(columns={'Unnamed: 0': 'Food'}, inplace=True)\n",
    "df.set_index('Food', inplace=True)"
   ]
  },
  {
   "cell_type": "code",
   "execution_count": 8,
   "metadata": {},
   "outputs": [
    {
     "name": "stdout",
     "output_type": "stream",
     "text": [
      "DataFrame Head:\n"
     ]
    },
    {
     "data": {
      "text/html": [
       "<div>\n",
       "<style scoped>\n",
       "    .dataframe tbody tr th:only-of-type {\n",
       "        vertical-align: middle;\n",
       "    }\n",
       "\n",
       "    .dataframe tbody tr th {\n",
       "        vertical-align: top;\n",
       "    }\n",
       "\n",
       "    .dataframe thead th {\n",
       "        text-align: right;\n",
       "    }\n",
       "</style>\n",
       "<table border=\"1\" class=\"dataframe\">\n",
       "  <thead>\n",
       "    <tr style=\"text-align: right;\">\n",
       "      <th></th>\n",
       "      <th>England</th>\n",
       "      <th>Wales</th>\n",
       "      <th>Scotland</th>\n",
       "      <th>N.Ireland</th>\n",
       "    </tr>\n",
       "    <tr>\n",
       "      <th>Food</th>\n",
       "      <th></th>\n",
       "      <th></th>\n",
       "      <th></th>\n",
       "      <th></th>\n",
       "    </tr>\n",
       "  </thead>\n",
       "  <tbody>\n",
       "    <tr>\n",
       "      <th>Cheese</th>\n",
       "      <td>105</td>\n",
       "      <td>103</td>\n",
       "      <td>103</td>\n",
       "      <td>66</td>\n",
       "    </tr>\n",
       "    <tr>\n",
       "      <th>Carcass_meat</th>\n",
       "      <td>245</td>\n",
       "      <td>227</td>\n",
       "      <td>242</td>\n",
       "      <td>267</td>\n",
       "    </tr>\n",
       "    <tr>\n",
       "      <th>Other_meat</th>\n",
       "      <td>685</td>\n",
       "      <td>803</td>\n",
       "      <td>750</td>\n",
       "      <td>586</td>\n",
       "    </tr>\n",
       "    <tr>\n",
       "      <th>Fish</th>\n",
       "      <td>147</td>\n",
       "      <td>160</td>\n",
       "      <td>122</td>\n",
       "      <td>93</td>\n",
       "    </tr>\n",
       "    <tr>\n",
       "      <th>Fats_and_oils</th>\n",
       "      <td>193</td>\n",
       "      <td>235</td>\n",
       "      <td>184</td>\n",
       "      <td>209</td>\n",
       "    </tr>\n",
       "  </tbody>\n",
       "</table>\n",
       "</div>"
      ],
      "text/plain": [
       "                England  Wales  Scotland  N.Ireland\n",
       "Food                                               \n",
       "Cheese              105    103       103         66\n",
       "Carcass_meat        245    227       242        267\n",
       "Other_meat          685    803       750        586\n",
       "Fish                147    160       122         93\n",
       "Fats_and_oils       193    235       184        209"
      ]
     },
     "execution_count": 8,
     "metadata": {},
     "output_type": "execute_result"
    }
   ],
   "source": [
    "# Mostrar las primeras filas del DataFrame\n",
    "print(\"DataFrame Head:\")\n",
    "df.head()"
   ]
  },
  {
   "cell_type": "markdown",
   "metadata": {},
   "source": [
    "### 1.2 Realizar una exploración básica de los datos"
   ]
  },
  {
   "cell_type": "code",
   "execution_count": 15,
   "metadata": {},
   "outputs": [
    {
     "name": "stdout",
     "output_type": "stream",
     "text": [
      "\n",
      "DataFrame Info:\n",
      "<class 'pandas.core.frame.DataFrame'>\n",
      "Index: 17 entries, Cheese to Confectionery \n",
      "Data columns (total 4 columns):\n",
      " #   Column     Non-Null Count  Dtype\n",
      "---  ------     --------------  -----\n",
      " 0   England    17 non-null     int64\n",
      " 1   Wales      17 non-null     int64\n",
      " 2   Scotland   17 non-null     int64\n",
      " 3   N.Ireland  17 non-null     int64\n",
      "dtypes: int64(4)\n",
      "memory usage: 680.0+ bytes\n"
     ]
    }
   ],
   "source": [
    "# Mostrar información del DataFrame\n",
    "print(\"\\nDataFrame Info:\")\n",
    "df.info()"
   ]
  },
  {
   "cell_type": "code",
   "execution_count": 16,
   "metadata": {},
   "outputs": [
    {
     "name": "stdout",
     "output_type": "stream",
     "text": [
      "\n",
      "Valores faltantes en cada columna:\n",
      "England      0\n",
      "Wales        0\n",
      "Scotland     0\n",
      "N.Ireland    0\n",
      "dtype: int64\n"
     ]
    }
   ],
   "source": [
    "# Comprobar valores faltantes en cada columna\n",
    "print(\"\\nValores faltantes en cada columna:\")\n",
    "print(df.isnull().sum())"
   ]
  },
  {
   "cell_type": "code",
   "execution_count": 17,
   "metadata": {},
   "outputs": [
    {
     "name": "stdout",
     "output_type": "stream",
     "text": [
      "\n",
      "Estadísticas Descriptivas:\n",
      "           England        Wales     Scotland    N.Ireland\n",
      "count    17.000000    17.000000    17.000000    17.000000\n",
      "mean    469.647059   503.941176   460.235294   429.941176\n",
      "std     452.701466   463.859282   469.595907   479.896014\n",
      "min      54.000000    64.000000    53.000000    41.000000\n",
      "25%     156.000000   175.000000   147.000000   135.000000\n",
      "50%     253.000000   265.000000   242.000000   209.000000\n",
      "75%     685.000000   803.000000   566.000000   586.000000\n",
      "max    1472.000000  1582.000000  1572.000000  1506.000000\n"
     ]
    }
   ],
   "source": [
    "# Mostrar estadísticas descriptivas\n",
    "print(\"\\nEstadísticas Descriptivas:\")\n",
    "print(df.describe())"
   ]
  },
  {
   "cell_type": "markdown",
   "metadata": {},
   "source": [
    "### 1.3 Normalizar los datos"
   ]
  },
  {
   "cell_type": "code",
   "execution_count": 18,
   "metadata": {},
   "outputs": [],
   "source": [
    "# Inicializar el StandardScaler\n",
    "scaler = StandardScaler()"
   ]
  },
  {
   "cell_type": "code",
   "execution_count": 19,
   "metadata": {},
   "outputs": [],
   "source": [
    "# Ajustar y transformar los datos\n",
    "scaled_data = scaler.fit_transform(df.values)"
   ]
  },
  {
   "cell_type": "code",
   "execution_count": 20,
   "metadata": {},
   "outputs": [],
   "source": [
    "# Crear un nuevo DataFrame con los datos escalados\n",
    "df_scaled = pd.DataFrame(scaled_data, index=df.index, columns=df.columns)"
   ]
  },
  {
   "cell_type": "code",
   "execution_count": 21,
   "metadata": {},
   "outputs": [
    {
     "name": "stdout",
     "output_type": "stream",
     "text": [
      "\n",
      "Datos Escalados Head:\n",
      "                 England     Wales  Scotland  N.Ireland\n",
      "Food                                                   \n",
      "Cheese         -0.830281 -0.890961 -0.784142  -0.781715\n",
      "Carcass_meat   -0.511509 -0.615412 -0.479033  -0.349984\n",
      "Other_meat      0.490347  0.664561  0.636042   0.335201\n",
      "Fish           -0.734650 -0.764297 -0.742436  -0.723721\n",
      "Fats_and_oils  -0.629910 -0.597634 -0.606344  -0.474563\n"
     ]
    }
   ],
   "source": [
    "# Mostrar las primeras filas de los datos escalados\n",
    "print(\"\\nDatos Escalados Head:\")\n",
    "print(df_scaled.head())"
   ]
  }
 ],
 "metadata": {
  "kernelspec": {
   "display_name": "Python 3",
   "language": "python",
   "name": "python3"
  },
  "language_info": {
   "codemirror_mode": {
    "name": "ipython",
    "version": 3
   },
   "file_extension": ".py",
   "mimetype": "text/x-python",
   "name": "python",
   "nbconvert_exporter": "python",
   "pygments_lexer": "ipython3",
   "version": "3.12.4"
  }
 },
 "nbformat": 4,
 "nbformat_minor": 2
}
